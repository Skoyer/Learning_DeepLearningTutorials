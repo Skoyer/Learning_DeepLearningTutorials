{
 "cells": [
  {
   "cell_type": "markdown",
   "metadata": {},
   "source": [
    "# Neural networks with PyTorch\n",
    "\n",
    "Deep learning networks tend to be massive with dozens or hundreds of layers, that's where the term \"deep\" comes from. You can build one of these deep networks using only weight matrices as we did in the previous notebook, but in general it's very cumbersome and difficult to implement. PyTorch has a nice module `nn` that provides a nice way to efficiently build large neural networks."
   ]
  },
  {
   "cell_type": "code",
   "execution_count": 1,
   "metadata": {},
   "outputs": [],
   "source": [
    "# Import necessary packages\n",
    "\n",
    "%matplotlib inline\n",
    "%config InlineBackend.figure_format = 'retina'\n",
    "\n",
    "import numpy as np\n",
    "import torch\n",
    "\n",
    "import helper\n",
    "\n",
    "import matplotlib.pyplot as plt"
   ]
  },
  {
   "cell_type": "markdown",
   "metadata": {},
   "source": [
    "\n",
    "Now we're going to build a larger network that can solve a (formerly) difficult problem, identifying text in an image. Here we'll use the MNIST dataset which consists of greyscale handwritten digits. Each image is 28x28 pixels, you can see a sample below\n",
    "\n",
    "<img src='assets/mnist.png'>\n",
    "\n",
    "Our goal is to build a neural network that can take one of these images and predict the digit in the image.\n",
    "\n",
    "First up, we need to get our dataset. This is provided through the `torchvision` package. The code below will download the MNIST dataset, then create training and test datasets for us. Don't worry too much about the details here, you'll learn more about this later."
   ]
  },
  {
   "cell_type": "code",
   "execution_count": 3,
   "metadata": {},
   "outputs": [],
   "source": [
    "### Run this cell\n",
    "\n",
    "from torchvision import datasets, transforms\n",
    "\n",
    "# Define a transform to normalize the data\n",
    "transform = transforms.Compose([transforms.ToTensor(),\n",
    "                              transforms.Normalize((0.5,), (0.5,)),\n",
    "                              ])\n",
    "\n",
    "# Download and load the training data\n",
    "trainset = datasets.MNIST('~/.pytorch/MNIST_data/', download=True, train=True, transform=transform)\n",
    "trainloader = torch.utils.data.DataLoader(trainset, batch_size=64, shuffle=True)"
   ]
  },
  {
   "cell_type": "markdown",
   "metadata": {},
   "source": [
    "We have the training data loaded into `trainloader` and we make that an iterator with `iter(trainloader)`. Later, we'll use this to loop through the dataset for training, like\n",
    "\n",
    "```python\n",
    "for image, label in trainloader:\n",
    "    ## do things with images and labels\n",
    "```\n",
    "\n",
    "You'll notice I created the `trainloader` with a batch size of 64, and `shuffle=True`. The batch size is the number of images we get in one iteration from the data loader and pass through our network, often called a *batch*. And `shuffle=True` tells it to shuffle the dataset every time we start going through the data loader again. But here I'm just grabbing the first batch so we can check out the data. We can see below that `images` is just a tensor with size `(64, 1, 28, 28)`. So, 64 images per batch, 1 color channel, and 28x28 images."
   ]
  },
  {
   "cell_type": "code",
   "execution_count": 17,
   "metadata": {},
   "outputs": [
    {
     "name": "stdout",
     "output_type": "stream",
     "text": [
      "<class 'torch.Tensor'>\n",
      "torch.Size([64, 1, 28, 28])\n",
      "torch.Size([64])\n"
     ]
    }
   ],
   "source": [
    "dataiter = iter(trainloader)\n",
    "images, labels = dataiter.next()\n",
    "print(type(images))\n",
    "print(images.shape)\n",
    "print(labels.shape)\n",
    "\n"
   ]
  },
  {
   "cell_type": "code",
   "execution_count": 21,
   "metadata": {},
   "outputs": [
    {
     "name": "stdout",
     "output_type": "stream",
     "text": [
      "tensor([[[-1.0000, -1.0000, -1.0000, -1.0000, -1.0000, -1.0000, -1.0000,\n",
      "          -1.0000, -1.0000, -1.0000, -1.0000, -1.0000, -1.0000, -1.0000,\n",
      "          -1.0000, -1.0000, -1.0000, -1.0000, -1.0000, -1.0000, -1.0000,\n",
      "          -1.0000, -1.0000, -1.0000, -1.0000, -1.0000, -1.0000, -1.0000],\n",
      "         [-1.0000, -1.0000, -1.0000, -1.0000, -1.0000, -1.0000, -1.0000,\n",
      "          -1.0000, -1.0000, -1.0000, -1.0000, -1.0000, -1.0000, -1.0000,\n",
      "          -1.0000, -1.0000, -1.0000, -1.0000, -1.0000, -1.0000, -1.0000,\n",
      "          -1.0000, -1.0000, -1.0000, -1.0000, -1.0000, -1.0000, -1.0000],\n",
      "         [-1.0000, -1.0000, -1.0000, -1.0000, -1.0000, -1.0000, -1.0000,\n",
      "          -1.0000, -1.0000, -1.0000, -1.0000, -1.0000, -1.0000, -1.0000,\n",
      "          -1.0000, -1.0000, -1.0000, -1.0000, -1.0000, -1.0000, -1.0000,\n",
      "          -1.0000, -1.0000, -1.0000, -1.0000, -1.0000, -1.0000, -1.0000],\n",
      "         [-1.0000, -1.0000, -1.0000, -1.0000, -1.0000, -1.0000, -1.0000,\n",
      "          -1.0000, -1.0000, -1.0000, -1.0000, -1.0000, -1.0000, -1.0000,\n",
      "          -1.0000, -1.0000, -1.0000, -1.0000, -1.0000, -1.0000, -1.0000,\n",
      "          -1.0000, -1.0000, -1.0000, -1.0000, -1.0000, -1.0000, -1.0000],\n",
      "         [-1.0000, -1.0000, -1.0000, -1.0000, -1.0000, -1.0000, -1.0000,\n",
      "          -1.0000, -1.0000, -1.0000, -1.0000, -1.0000, -1.0000, -1.0000,\n",
      "          -1.0000, -1.0000, -1.0000, -1.0000, -1.0000, -1.0000, -1.0000,\n",
      "          -1.0000, -1.0000, -1.0000, -1.0000, -1.0000, -1.0000, -1.0000],\n",
      "         [-1.0000, -1.0000, -1.0000, -1.0000, -1.0000, -1.0000, -1.0000,\n",
      "          -1.0000, -1.0000, -1.0000, -1.0000, -1.0000, -1.0000, -1.0000,\n",
      "          -1.0000, -1.0000, -1.0000, -1.0000, -1.0000, -1.0000, -1.0000,\n",
      "          -1.0000, -1.0000, -1.0000, -1.0000, -1.0000, -1.0000, -1.0000],\n",
      "         [-1.0000, -1.0000, -1.0000, -1.0000, -1.0000, -1.0000, -1.0000,\n",
      "          -1.0000, -1.0000, -1.0000, -1.0000, -1.0000, -1.0000, -1.0000,\n",
      "          -1.0000, -1.0000, -1.0000, -1.0000, -1.0000, -1.0000, -1.0000,\n",
      "          -1.0000, -1.0000, -1.0000, -1.0000, -1.0000, -1.0000, -1.0000],\n",
      "         [-1.0000, -1.0000, -1.0000, -1.0000, -1.0000, -1.0000, -1.0000,\n",
      "          -1.0000, -1.0000, -1.0000, -1.0000, -1.0000, -1.0000, -1.0000,\n",
      "          -1.0000, -1.0000, -1.0000, -1.0000, -1.0000, -1.0000, -1.0000,\n",
      "          -1.0000, -1.0000, -1.0000, -1.0000, -1.0000, -1.0000, -1.0000],\n",
      "         [-1.0000, -1.0000, -1.0000, -1.0000, -1.0000, -0.9686, -0.5529,\n",
      "          -0.0039, -0.0039,  0.3412,  0.8275,  0.8196,  0.8196,  0.2627,\n",
      "          -0.0039, -0.1373, -0.8275, -0.9843, -1.0000, -1.0000, -1.0000,\n",
      "          -1.0000, -1.0000, -1.0000, -1.0000, -1.0000, -1.0000, -1.0000],\n",
      "         [-1.0000, -1.0000, -1.0000, -1.0000, -1.0000,  0.0902,  0.9765,\n",
      "           0.9373,  0.4824,  0.4824,  0.1373,  0.4824,  0.4824,  0.4824,\n",
      "           0.6863,  0.9843,  0.9765,  0.3725, -0.5608, -1.0000, -1.0000,\n",
      "          -1.0000, -1.0000, -1.0000, -1.0000, -1.0000, -1.0000, -1.0000],\n",
      "         [-1.0000, -1.0000, -1.0000, -1.0000, -1.0000,  0.9843,  0.7020,\n",
      "          -0.6314, -1.0000, -1.0000, -1.0000, -1.0000, -1.0000, -1.0000,\n",
      "          -0.8588, -0.6706, -0.0510,  0.9137, -0.3412, -1.0000, -1.0000,\n",
      "          -1.0000, -1.0000, -1.0000, -1.0000, -1.0000, -1.0000, -1.0000],\n",
      "         [-1.0000, -1.0000, -1.0000, -1.0000, -1.0000,  0.1765, -0.4431,\n",
      "          -1.0000, -1.0000, -1.0000, -1.0000, -1.0000, -1.0000, -1.0000,\n",
      "          -1.0000, -1.0000, -0.8824,  0.8588, -0.3412, -1.0000, -1.0000,\n",
      "          -1.0000, -1.0000, -1.0000, -1.0000, -1.0000, -1.0000, -1.0000],\n",
      "         [-1.0000, -1.0000, -1.0000, -1.0000, -1.0000, -1.0000, -1.0000,\n",
      "          -1.0000, -1.0000, -1.0000, -1.0000, -1.0000, -1.0000, -1.0000,\n",
      "          -1.0000, -0.8824,  0.4510,  0.9765, -0.3412, -1.0000, -1.0000,\n",
      "          -1.0000, -1.0000, -1.0000, -1.0000, -1.0000, -1.0000, -1.0000],\n",
      "         [-1.0000, -1.0000, -1.0000, -1.0000, -1.0000, -1.0000, -1.0000,\n",
      "          -1.0000, -1.0000, -1.0000, -1.0000, -1.0000, -1.0000, -1.0000,\n",
      "          -1.0000, -0.5922,  0.9765,  0.9137, -0.6157, -0.8588, -0.9294,\n",
      "          -1.0000, -1.0000, -1.0000, -1.0000, -1.0000, -1.0000, -1.0000],\n",
      "         [-1.0000, -1.0000, -1.0000, -1.0000, -1.0000, -1.0000, -1.0000,\n",
      "          -1.0000, -1.0000, -1.0000, -1.0000, -0.6235, -0.4980, -0.1529,\n",
      "           0.1922,  0.7098,  0.9765,  0.9765,  0.5373,  0.8745,  0.6000,\n",
      "           0.3255,  0.3255, -0.0118, -0.3647, -1.0000, -1.0000, -1.0000],\n",
      "         [-1.0000, -1.0000, -1.0000, -1.0000, -1.0000, -1.0000, -1.0000,\n",
      "          -1.0000, -0.7882,  0.1765,  0.6627,  0.8980,  0.9765,  0.9765,\n",
      "           0.9765,  0.9843,  0.9765,  0.9765,  0.9765,  0.6314,  0.2941,\n",
      "           0.9765,  0.5608,  0.1529,  0.1529, -1.0000, -1.0000, -1.0000],\n",
      "         [-1.0000, -1.0000, -1.0000, -1.0000, -1.0000, -1.0000, -1.0000,\n",
      "          -0.4118,  0.7098,  0.9843,  0.9922,  0.8745,  0.6549,  0.4510,\n",
      "           0.3098,  1.0000,  0.4588, -0.9294, -1.0000, -1.0000, -1.0000,\n",
      "          -1.0000, -1.0000, -1.0000, -1.0000, -1.0000, -1.0000, -1.0000],\n",
      "         [-1.0000, -1.0000, -1.0000, -1.0000, -1.0000, -1.0000, -1.0000,\n",
      "          -0.0039,  0.9765,  0.7020, -0.1608, -0.6706, -1.0000, -1.0000,\n",
      "           0.4510,  0.9843, -0.5059, -1.0000, -1.0000, -1.0000, -1.0000,\n",
      "          -1.0000, -1.0000, -1.0000, -1.0000, -1.0000, -1.0000, -1.0000],\n",
      "         [-1.0000, -1.0000, -1.0000, -1.0000, -1.0000, -1.0000, -1.0000,\n",
      "          -0.5686, -0.8353, -0.9059, -1.0000, -1.0000, -1.0000, -0.7490,\n",
      "           0.8196,  0.9843, -0.5059, -1.0000, -1.0000, -1.0000, -1.0000,\n",
      "          -1.0000, -1.0000, -1.0000, -1.0000, -1.0000, -1.0000, -1.0000],\n",
      "         [-1.0000, -1.0000, -1.0000, -1.0000, -1.0000, -1.0000, -1.0000,\n",
      "          -1.0000, -1.0000, -1.0000, -1.0000, -1.0000, -1.0000, -0.4980,\n",
      "           0.9765,  0.9843, -0.5059, -1.0000, -1.0000, -1.0000, -1.0000,\n",
      "          -1.0000, -1.0000, -1.0000, -1.0000, -1.0000, -1.0000, -1.0000],\n",
      "         [-1.0000, -1.0000, -1.0000, -1.0000, -1.0000, -1.0000, -1.0000,\n",
      "          -1.0000, -1.0000, -1.0000, -1.0000, -1.0000, -1.0000, -0.4980,\n",
      "           0.9765,  0.7098, -0.9137, -1.0000, -1.0000, -1.0000, -1.0000,\n",
      "          -1.0000, -1.0000, -1.0000, -1.0000, -1.0000, -1.0000, -1.0000],\n",
      "         [-1.0000, -1.0000, -1.0000, -1.0000, -1.0000, -1.0000, -1.0000,\n",
      "          -1.0000, -1.0000, -1.0000, -1.0000, -1.0000, -1.0000, -0.4980,\n",
      "           0.9843,  0.7176, -0.9137, -1.0000, -1.0000, -1.0000, -1.0000,\n",
      "          -1.0000, -1.0000, -1.0000, -1.0000, -1.0000, -1.0000, -1.0000],\n",
      "         [-1.0000, -1.0000, -1.0000, -1.0000, -1.0000, -1.0000, -1.0000,\n",
      "          -1.0000, -1.0000, -1.0000, -1.0000, -1.0000, -1.0000, -0.6627,\n",
      "           0.8745,  0.9843, -0.5059, -1.0000, -1.0000, -1.0000, -1.0000,\n",
      "          -1.0000, -1.0000, -1.0000, -1.0000, -1.0000, -1.0000, -1.0000],\n",
      "         [-1.0000, -1.0000, -1.0000, -1.0000, -1.0000, -1.0000, -1.0000,\n",
      "          -1.0000, -1.0000, -1.0000, -1.0000, -1.0000, -1.0000, -1.0000,\n",
      "          -0.1686, -0.4902, -0.9608, -1.0000, -1.0000, -1.0000, -1.0000,\n",
      "          -1.0000, -1.0000, -1.0000, -1.0000, -1.0000, -1.0000, -1.0000],\n",
      "         [-1.0000, -1.0000, -1.0000, -1.0000, -1.0000, -1.0000, -1.0000,\n",
      "          -1.0000, -1.0000, -1.0000, -1.0000, -1.0000, -1.0000, -1.0000,\n",
      "          -1.0000, -1.0000, -1.0000, -1.0000, -1.0000, -1.0000, -1.0000,\n",
      "          -1.0000, -1.0000, -1.0000, -1.0000, -1.0000, -1.0000, -1.0000],\n",
      "         [-1.0000, -1.0000, -1.0000, -1.0000, -1.0000, -1.0000, -1.0000,\n",
      "          -1.0000, -1.0000, -1.0000, -1.0000, -1.0000, -1.0000, -1.0000,\n",
      "          -1.0000, -1.0000, -1.0000, -1.0000, -1.0000, -1.0000, -1.0000,\n",
      "          -1.0000, -1.0000, -1.0000, -1.0000, -1.0000, -1.0000, -1.0000],\n",
      "         [-1.0000, -1.0000, -1.0000, -1.0000, -1.0000, -1.0000, -1.0000,\n",
      "          -1.0000, -1.0000, -1.0000, -1.0000, -1.0000, -1.0000, -1.0000,\n",
      "          -1.0000, -1.0000, -1.0000, -1.0000, -1.0000, -1.0000, -1.0000,\n",
      "          -1.0000, -1.0000, -1.0000, -1.0000, -1.0000, -1.0000, -1.0000],\n",
      "         [-1.0000, -1.0000, -1.0000, -1.0000, -1.0000, -1.0000, -1.0000,\n",
      "          -1.0000, -1.0000, -1.0000, -1.0000, -1.0000, -1.0000, -1.0000,\n",
      "          -1.0000, -1.0000, -1.0000, -1.0000, -1.0000, -1.0000, -1.0000,\n",
      "          -1.0000, -1.0000, -1.0000, -1.0000, -1.0000, -1.0000, -1.0000]]])\n"
     ]
    }
   ],
   "source": [
    "print(images[63])\n"
   ]
  },
  {
   "cell_type": "code",
   "execution_count": 22,
   "metadata": {},
   "outputs": [
    {
     "name": "stdout",
     "output_type": "stream",
     "text": [
      "tensor(7)\n"
     ]
    }
   ],
   "source": [
    "print(labels[63])"
   ]
  },
  {
   "cell_type": "markdown",
   "metadata": {},
   "source": [
    "This is what one of the images looks like. "
   ]
  },
  {
   "cell_type": "code",
   "execution_count": 23,
   "metadata": {},
   "outputs": [
    {
     "data": {
      "image/png": "[encoded data removed]",
      "text/plain": [
       "<Figure size 432x288 with 1 Axes>"
      ]
     },
     "metadata": {
      "image/png": {
       "height": 248,
       "width": 251
      },
      "needs_background": "light"
     },
     "output_type": "display_data"
    }
   ],
   "source": [
    "plt.imshow(images[63].numpy().squeeze(), cmap='Greys_r');"
   ]
  },
  {
   "cell_type": "markdown",
   "metadata": {},
   "source": [
    "First, let's try to build a simple network for this dataset using weight matrices and matrix multiplications. Then, we'll see how to do it using PyTorch's `nn` module which provides a much more convenient and powerful method for defining network architectures.\n",
    "\n",
    "The networks you've seen so far are called *fully-connected* or *dense* networks. Each unit in one layer is connected to each unit in the next layer. In fully-connected networks, the input to each layer must be a one-dimensional vector (which can be stacked into a 2D tensor as a batch of multiple examples). However, our images are 28x28 2D tensors, so we need to convert them into 1D vectors. Thinking about sizes, we need to convert the batch of images with shape `(64, 1, 28, 28)` to a have a shape of `(64, 784)`, 784 is 28 times 28. This is typically called *flattening*, we flattened the 2D images into 1D vectors.\n",
    "\n",
    "Previously you built a network with one output unit. Here we need 10 output units, one for each digit. We want our network to predict the digit shown in an image, so what we'll do is calculate probabilities that the image is of any one digit or class. This ends up being a discrete probability distribution over the classes (digits) that tells us the most likely class for the image. That means we need 10 output units for the 10 classes (digits). We'll see how to convert the network output into a probability distribution next.\n",
    "\n",
    "> **Exercise:** Flatten the batch of images `images`. Then build a multi-layer network with 784 input units, 256 hidden units, and 10 output units using random tensors for the weights and biases. For now, use a sigmoid activation for the hidden layer. Leave the output layer without an activation, we'll add one that gives us a probability distribution next."
   ]
  },
  {
   "cell_type": "code",
   "execution_count": 28,
   "metadata": {},
   "outputs": [
    {
     "name": "stdout",
     "output_type": "stream",
     "text": [
      "<class 'torch.Tensor'>\n",
      "torch.Size([64, 10])\n"
     ]
    }
   ],
   "source": [
    "## Solution\n",
    "def activation(x):\n",
    "    return 1/(1+torch.exp(-x))\n",
    "\n",
    "# Flatten the input images\n",
    "inputs = images.view(images.shape[0], -1)\n",
    "\n",
    "# Create parameters\n",
    "w1 = torch.randn(784, 256)\n",
    "b1 = torch.randn(256)\n",
    "\n",
    "w2 = torch.randn(256, 10)\n",
    "b2 = torch.randn(10)\n",
    "\n",
    "h = activation(torch.mm(inputs, w1) + b1)\n",
    "\n",
    "out = torch.mm(h, w2) + b2\n",
    "\n",
    "print(type(images))\n",
    "print(out.shape)"
   ]
  },
  {
   "cell_type": "markdown",
   "metadata": {},
   "source": [
    "Now we have 10 outputs for our network. We want to pass in an image to our network and get out a probability distribution over the classes that tells us the likely class(es) the image belongs to. Something that looks like this:\n",
    "<img src='assets/image_distribution.png' width=500px>\n",
    "\n",
    "Here we see that the probability for each class is roughly the same. This is representing an untrained network, it hasn't seen any data yet so it just returns a uniform distribution with equal probabilities for each class.\n",
    "\n",
    "To calculate this probability distribution, we often use the [**softmax** function](https://en.wikipedia.org/wiki/Softmax_function). Mathematically this looks like\n",
    "\n",
    "$$\n",
    "\\Large \\sigma(x_i) = \\cfrac{e^{x_i}}{\\sum_k^K{e^{x_k}}}\n",
    "$$\n",
    "\n",
    "What this does is squish each input $x_i$ between 0 and 1 and normalizes the values to give you a proper probability distribution where the probabilites sum up to one.\n",
    "\n",
    "> **Exercise:** Implement a function `softmax` that performs the softmax calculation and returns probability distributions for each example in the batch. Note that you'll need to pay attention to the shapes when doing this. If you have a tensor `a` with shape `(64, 10)` and a tensor `b` with shape `(64,)`, doing `a/b` will give you an error because PyTorch will try to do the division across the columns (called broadcasting) but you'll get a size mismatch. The way to think about this is for each of the 64 examples, you only want to divide by one value, the sum in the denominator. So you need `b` to have a shape of `(64, 1)`. This way PyTorch will divide the 10 values in each row of `a` by the one value in each row of `b`. Pay attention to how you take the sum as well. You'll need to define the `dim` keyword in `torch.sum`. Setting `dim=0` takes the sum across the rows while `dim=1` takes the sum across the columns."
   ]
  },
  {
   "cell_type": "code",
   "execution_count": 31,
   "metadata": {},
   "outputs": [
    {
     "name": "stdout",
     "output_type": "stream",
     "text": [
      "tensor([[2.3803e-07, 5.6777e-06, 3.4024e-07, 4.8492e-09, 1.7680e-01, 6.6292e-01,\n",
      "         3.9601e-04, 1.5582e-01, 1.6444e-05, 4.0406e-03],\n",
      "        [9.7484e-13, 4.3061e-05, 9.0709e-13, 1.5578e-11, 9.1125e-06, 1.6677e-07,\n",
      "         3.1653e-12, 9.9983e-01, 2.7830e-10, 1.1341e-04],\n",
      "        [1.8297e-08, 3.5958e-06, 3.1055e-07, 3.0093e-09, 5.5502e-03, 8.5197e-02,\n",
      "         1.4889e-03, 9.0764e-01, 1.0772e-04, 7.1940e-06],\n",
      "        [7.6017e-05, 1.5023e-05, 6.0964e-11, 3.6227e-16, 1.6371e-08, 1.8563e-07,\n",
      "         1.2176e-05, 9.9989e-01, 2.5996e-06, 6.4968e-07],\n",
      "        [5.3304e-05, 2.0343e-05, 2.1129e-08, 3.9692e-12, 4.2846e-05, 4.7912e-06,\n",
      "         1.0348e-05, 3.0791e-01, 4.7608e-02, 6.4435e-01],\n",
      "        [9.0233e-08, 3.6570e-07, 8.3819e-09, 1.0836e-13, 5.8802e-03, 1.4511e-03,\n",
      "         2.1124e-07, 2.2825e-02, 4.2409e-01, 5.4575e-01],\n",
      "        [3.1249e-11, 3.1065e-08, 1.2372e-08, 2.7148e-18, 3.0972e-02, 1.3384e-06,\n",
      "         9.2560e-05, 9.6893e-01, 4.6588e-07, 1.7882e-06],\n",
      "        [1.6351e-10, 3.3184e-09, 1.0195e-10, 1.7005e-13, 5.7170e-07, 1.2907e-08,\n",
      "         2.0045e-08, 9.9911e-01, 5.3489e-09, 8.9049e-04],\n",
      "        [2.0680e-03, 2.4047e-05, 8.5762e-09, 5.0496e-08, 1.4024e-04, 2.2341e-03,\n",
      "         4.1112e-04, 1.3708e-05, 2.0799e-01, 7.8712e-01],\n",
      "        [3.8773e-10, 2.5008e-11, 1.1816e-11, 4.5658e-13, 9.6616e-09, 1.8292e-08,\n",
      "         7.0624e-11, 1.0000e+00, 8.9558e-12, 1.3301e-10],\n",
      "        [5.6021e-12, 1.5859e-08, 2.5297e-12, 1.4193e-17, 1.0245e-05, 4.3175e-10,\n",
      "         1.6331e-07, 9.9994e-01, 5.2011e-05, 4.0324e-09],\n",
      "        [2.4265e-09, 8.6902e-09, 3.7565e-10, 9.4896e-15, 1.3989e-06, 1.1735e-09,\n",
      "         1.6217e-11, 9.9993e-01, 8.0117e-14, 7.3114e-05],\n",
      "        [3.4825e-12, 8.2410e-07, 4.7281e-11, 6.5728e-07, 6.7897e-05, 5.5441e-01,\n",
      "         1.2011e-04, 4.2313e-01, 2.8928e-05, 2.2238e-02],\n",
      "        [5.9500e-10, 1.7590e-11, 4.6331e-08, 1.5281e-14, 8.8306e-01, 3.9932e-08,\n",
      "         1.9733e-10, 7.8203e-02, 3.9692e-04, 3.8341e-02],\n",
      "        [6.7195e-06, 9.8415e-06, 1.8616e-08, 1.3760e-12, 4.1083e-03, 1.2255e-05,\n",
      "         3.9712e-04, 9.5270e-01, 1.4962e-02, 2.7804e-02],\n",
      "        [1.0986e-07, 4.3270e-07, 5.8842e-10, 1.2308e-16, 3.1840e-09, 1.9055e-09,\n",
      "         1.2254e-07, 1.0000e+00, 1.7744e-07, 7.7716e-09],\n",
      "        [3.6438e-10, 2.3876e-10, 1.5377e-13, 8.3731e-17, 1.3287e-04, 8.6128e-12,\n",
      "         6.3616e-12, 9.9987e-01, 9.4294e-13, 6.6008e-08],\n",
      "        [7.6364e-09, 1.1518e-07, 2.6427e-07, 4.4059e-06, 2.3763e-02, 4.6572e-05,\n",
      "         5.4624e-06, 9.0017e-01, 1.2256e-05, 7.6000e-02],\n",
      "        [1.6956e-13, 1.9140e-07, 1.4467e-14, 2.0284e-17, 1.8316e-08, 5.4017e-11,\n",
      "         3.5891e-12, 9.9997e-01, 2.8291e-10, 3.4566e-05],\n",
      "        [4.2364e-12, 1.0539e-08, 1.3017e-10, 7.5837e-17, 8.6295e-03, 6.4778e-07,\n",
      "         2.5780e-06, 9.9135e-01, 2.0015e-05, 3.9246e-07],\n",
      "        [9.4993e-13, 1.4377e-07, 2.0251e-08, 7.1977e-17, 4.0405e-06, 4.7444e-07,\n",
      "         3.6708e-08, 9.9934e-01, 2.8249e-05, 6.3087e-04],\n",
      "        [6.7463e-09, 1.3442e-06, 5.2106e-08, 1.1416e-16, 6.2807e-03, 1.2816e-06,\n",
      "         1.9269e-04, 9.9174e-01, 3.6882e-06, 1.7810e-03],\n",
      "        [2.0100e-12, 1.5050e-10, 5.1154e-11, 1.2265e-17, 3.6324e-04, 7.9283e-10,\n",
      "         7.9221e-08, 9.9964e-01, 1.2147e-09, 9.7012e-07],\n",
      "        [1.4413e-09, 2.9901e-06, 3.4280e-10, 3.2911e-14, 2.6275e-07, 1.7728e-05,\n",
      "         2.4887e-11, 5.6914e-01, 1.2648e-09, 4.3084e-01],\n",
      "        [4.2402e-08, 1.1745e-04, 1.1174e-11, 5.5281e-09, 2.0497e-02, 9.5933e-01,\n",
      "         9.8628e-13, 1.8039e-02, 1.9997e-03, 1.9399e-05],\n",
      "        [2.8498e-08, 1.6222e-05, 8.5588e-12, 3.8400e-10, 3.3506e-07, 5.0467e-05,\n",
      "         6.8032e-08, 9.9991e-01, 5.9594e-06, 2.1761e-05],\n",
      "        [2.8536e-07, 2.7718e-01, 2.3033e-10, 2.7660e-13, 2.8318e-02, 1.7520e-05,\n",
      "         4.0237e-03, 6.7133e-01, 2.1461e-06, 1.9123e-02],\n",
      "        [1.0416e-09, 1.2947e-06, 4.0288e-10, 3.0286e-12, 1.4446e-05, 8.8784e-06,\n",
      "         7.5377e-06, 9.9070e-01, 8.1086e-03, 1.1612e-03],\n",
      "        [1.7319e-11, 1.9280e-09, 2.1674e-08, 1.6569e-16, 6.2377e-05, 5.3446e-05,\n",
      "         1.7563e-11, 9.9647e-01, 1.1790e-07, 3.4172e-03],\n",
      "        [7.7603e-13, 1.4058e-11, 3.3362e-12, 5.3291e-15, 4.7569e-05, 2.9202e-03,\n",
      "         1.2151e-10, 9.9703e-01, 4.3404e-08, 4.6913e-06],\n",
      "        [1.3829e-01, 1.0112e-02, 3.2920e-10, 8.1529e-10, 5.0854e-02, 2.5439e-09,\n",
      "         3.2873e-09, 6.0124e-01, 2.5895e-11, 1.9951e-01],\n",
      "        [1.8290e-04, 4.6053e-03, 1.8557e-04, 2.3111e-12, 9.8100e-01, 2.3561e-04,\n",
      "         8.3489e-05, 3.5983e-03, 3.6291e-03, 6.4835e-03],\n",
      "        [3.1065e-13, 2.5318e-09, 1.1565e-13, 1.3549e-12, 1.8700e-07, 3.3690e-08,\n",
      "         1.1730e-12, 1.0000e+00, 1.3774e-10, 7.7751e-07],\n",
      "        [5.0440e-08, 2.1632e-07, 1.6559e-07, 1.6824e-14, 8.6298e-01, 6.3279e-07,\n",
      "         3.9674e-03, 1.2437e-01, 2.6002e-03, 6.0805e-03],\n",
      "        [1.7456e-08, 4.2611e-07, 1.2458e-09, 3.9534e-14, 2.0657e-04, 1.7825e-06,\n",
      "         4.5881e-09, 9.9972e-01, 2.2317e-07, 6.6928e-05],\n",
      "        [1.3070e-10, 4.7659e-08, 1.2944e-09, 1.5978e-13, 8.5577e-06, 2.5058e-05,\n",
      "         6.0689e-06, 9.9994e-01, 3.1854e-09, 1.8750e-05],\n",
      "        [3.3798e-07, 5.8163e-03, 4.8016e-12, 6.0881e-15, 4.6134e-06, 5.3452e-06,\n",
      "         8.0908e-03, 9.8608e-01, 1.8285e-06, 1.4466e-07],\n",
      "        [6.4127e-09, 1.2817e-05, 1.9006e-22, 5.9112e-15, 8.8237e-11, 1.7336e-11,\n",
      "         2.3978e-14, 9.9999e-01, 2.1498e-12, 3.3746e-10],\n",
      "        [1.5077e-11, 2.5927e-03, 7.4504e-11, 2.0652e-15, 4.2009e-08, 6.6674e-08,\n",
      "         1.0031e-11, 9.9740e-01, 8.2659e-09, 2.4866e-06],\n",
      "        [9.4026e-08, 2.7992e-06, 2.8573e-03, 9.7993e-06, 2.8549e-01, 1.8623e-02,\n",
      "         2.9181e-07, 6.2626e-01, 1.4482e-05, 6.6743e-02],\n",
      "        [2.4265e-16, 3.0011e-11, 3.6904e-15, 3.3603e-13, 7.2591e-04, 7.7938e-08,\n",
      "         2.3886e-06, 9.9925e-01, 2.3442e-05, 1.0644e-06],\n",
      "        [1.4368e-12, 5.1448e-11, 1.1464e-17, 1.8211e-21, 2.3076e-04, 1.0913e-12,\n",
      "         3.4432e-11, 9.9977e-01, 3.9573e-09, 7.9468e-11],\n",
      "        [3.2424e-06, 1.1308e-01, 1.0787e-09, 1.8999e-14, 2.2519e-04, 4.8826e-03,\n",
      "         7.5727e-02, 7.8670e-01, 1.9374e-02, 1.0269e-05],\n",
      "        [5.3812e-10, 1.5124e-08, 8.4020e-15, 1.0119e-12, 1.4742e-06, 2.8712e-08,\n",
      "         1.1329e-10, 9.9970e-01, 2.9231e-04, 2.4087e-06],\n",
      "        [2.2837e-02, 5.5490e-02, 1.6207e-01, 2.2097e-09, 8.7393e-02, 2.8115e-01,\n",
      "         2.7396e-01, 1.0282e-01, 1.4274e-02, 1.8518e-06],\n",
      "        [1.3987e-04, 8.3834e-05, 2.9619e-08, 3.9961e-07, 2.4994e-02, 1.2050e-05,\n",
      "         8.8030e-08, 1.3066e-02, 2.0490e-03, 9.5965e-01],\n",
      "        [7.5053e-09, 8.6017e-04, 3.9424e-12, 2.8957e-15, 8.7454e-08, 7.3658e-09,\n",
      "         1.3429e-06, 9.9909e-01, 8.8844e-06, 3.7126e-05],\n",
      "        [2.0746e-04, 1.1188e-08, 2.1532e-11, 1.2069e-17, 2.0337e-04, 6.7137e-06,\n",
      "         1.4101e-02, 9.8226e-01, 3.0112e-03, 2.1351e-04],\n",
      "        [2.4773e-05, 1.0602e-06, 3.9225e-05, 2.2831e-09, 8.9710e-01, 1.0058e-01,\n",
      "         2.9224e-06, 3.5142e-05, 4.1229e-05, 2.1790e-03],\n",
      "        [2.0551e-09, 1.8958e-06, 5.9738e-14, 4.9660e-16, 2.2809e-08, 1.3949e-09,\n",
      "         3.3450e-05, 3.1039e-03, 1.0677e-03, 9.9579e-01],\n",
      "        [9.4442e-07, 2.0720e-09, 5.4326e-09, 1.6209e-10, 1.5531e-06, 9.1490e-07,\n",
      "         8.9451e-07, 9.9446e-01, 4.2515e-04, 5.1145e-03],\n",
      "        [7.7073e-11, 1.6835e-07, 8.1205e-10, 1.4460e-14, 1.8980e-02, 6.0340e-05,\n",
      "         7.0676e-07, 1.2349e-01, 8.3828e-01, 1.9189e-02],\n",
      "        [1.7948e-05, 2.6891e-04, 5.4626e-06, 7.0819e-09, 4.1750e-02, 3.6066e-06,\n",
      "         2.2192e-04, 5.0321e-01, 1.1883e-07, 4.5452e-01],\n",
      "        [5.4784e-10, 1.1250e-05, 2.5722e-12, 6.0971e-17, 9.8951e-01, 7.0466e-04,\n",
      "         1.3596e-06, 9.7412e-03, 3.4658e-05, 3.3375e-07],\n",
      "        [3.8386e-07, 3.7935e-07, 8.8001e-12, 1.1783e-10, 2.5565e-02, 4.0051e-04,\n",
      "         2.5096e-11, 9.7004e-01, 5.7112e-10, 3.9919e-03],\n",
      "        [1.0111e-06, 4.6878e-10, 2.8614e-12, 3.5216e-13, 9.9160e-01, 7.6233e-06,\n",
      "         8.6124e-09, 2.6208e-05, 5.4385e-03, 2.9294e-03],\n",
      "        [5.7082e-12, 2.5876e-09, 1.8415e-09, 2.7284e-19, 2.3636e-07, 1.5417e-10,\n",
      "         2.2151e-07, 9.9995e-01, 9.7786e-10, 4.6090e-05],\n",
      "        [8.3865e-08, 5.9081e-07, 9.1996e-08, 1.1900e-07, 2.8094e-04, 6.9034e-03,\n",
      "         6.6914e-07, 3.7779e-03, 3.4702e-04, 9.8869e-01],\n",
      "        [1.2040e-05, 2.0906e-07, 7.1117e-10, 1.5969e-13, 9.9903e-01, 4.4955e-07,\n",
      "         9.5313e-04, 5.5598e-08, 8.6940e-07, 4.0657e-06],\n",
      "        [3.8133e-12, 4.6960e-10, 2.1721e-10, 1.6798e-16, 6.1042e-08, 2.7688e-08,\n",
      "         1.7098e-09, 9.9950e-01, 6.2587e-08, 4.9822e-04],\n",
      "        [1.4323e-07, 2.4986e-03, 3.1821e-07, 4.6235e-11, 2.4510e-02, 7.4043e-03,\n",
      "         4.6887e-04, 7.1445e-01, 5.6102e-08, 2.5067e-01],\n",
      "        [3.9342e-03, 3.0016e-10, 3.7783e-08, 4.8467e-08, 9.9572e-01, 1.4744e-04,\n",
      "         1.4009e-04, 2.3182e-06, 4.4776e-05, 1.0260e-05],\n",
      "        [1.1590e-12, 2.4786e-07, 1.1856e-15, 1.4195e-13, 1.3776e-07, 9.3367e-11,\n",
      "         1.4332e-10, 9.9999e-01, 8.8191e-06, 1.4672e-07],\n",
      "        [5.3944e-09, 8.1286e-08, 3.7805e-11, 1.2966e-17, 3.2129e-04, 4.2454e-09,\n",
      "         1.6496e-04, 9.9951e-01, 3.1201e-06, 8.4725e-10]])\n",
      "torch.Size([64, 10])\n",
      "tensor([1.0000, 1.0000, 1.0000, 1.0000, 1.0000, 1.0000, 1.0000, 1.0000, 1.0000,\n",
      "        1.0000, 1.0000, 1.0000, 1.0000, 1.0000, 1.0000, 1.0000, 1.0000, 1.0000,\n",
      "        1.0000, 1.0000, 1.0000, 1.0000, 1.0000, 1.0000, 1.0000, 1.0000, 1.0000,\n",
      "        1.0000, 1.0000, 1.0000, 1.0000, 1.0000, 1.0000, 1.0000, 1.0000, 1.0000,\n",
      "        1.0000, 1.0000, 1.0000, 1.0000, 1.0000, 1.0000, 1.0000, 1.0000, 1.0000,\n",
      "        1.0000, 1.0000, 1.0000, 1.0000, 1.0000, 1.0000, 1.0000, 1.0000, 1.0000,\n",
      "        1.0000, 1.0000, 1.0000, 1.0000, 1.0000, 1.0000, 1.0000, 1.0000, 1.0000,\n",
      "        1.0000])\n"
     ]
    }
   ],
   "source": [
    "def softmax(x):\n",
    "    ## TODO: Implement the softmax function here\n",
    "    return torch.exp(x)/torch.sum(torch.exp(x), dim=1).view(-1,1)\n",
    "\n",
    "# Here, out should be the output of the network in the previous excercise with shape (64,10)\n",
    "probabilities = softmax(out)\n",
    "\n",
    "print(probabilities)\n",
    "# Does it have the right shape? Should be (64, 10)\n",
    "print(probabilities.shape)\n",
    "# Does it sum to 1?\n",
    "print(probabilities.sum(dim=1))"
   ]
  },
  {
   "cell_type": "markdown",
   "metadata": {},
   "source": [
    "## Building networks with PyTorch\n",
    "\n",
    "PyTorch provides a module `nn` that makes building networks much simpler. Here I'll show you how to build the same one as above with 784 inputs, 256 hidden units, 10 output units and a softmax output."
   ]
  },
  {
   "cell_type": "code",
   "execution_count": null,
   "metadata": {
    "collapsed": true
   },
   "outputs": [],
   "source": [
    "from torch import nn"
   ]
  },
  {
   "cell_type": "code",
   "execution_count": null,
   "metadata": {
    "collapsed": true
   },
   "outputs": [],
   "source": [
    "class Network(nn.Module):\n",
    "    def __init__(self):\n",
    "        super().__init__()\n",
    "        \n",
    "        # Inputs to hidden layer linear transformation\n",
    "        self.hidden = nn.Linear(784, 256)\n",
    "        # Output layer, 10 units - one for each digit\n",
    "        self.output = nn.Linear(256, 10)\n",
    "        \n",
    "        # Define sigmoid activation and softmax output \n",
    "        self.sigmoid = nn.Sigmoid()\n",
    "        self.softmax = nn.Softmax(dim=1)\n",
    "        \n",
    "    def forward(self, x):\n",
    "        # Pass the input tensor through each of our operations\n",
    "        x = self.hidden(x)\n",
    "        x = self.sigmoid(x)\n",
    "        x = self.output(x)\n",
    "        x = self.softmax(x)\n",
    "        \n",
    "        return x"
   ]
  },
  {
   "cell_type": "markdown",
   "metadata": {},
   "source": [
    "Let's go through this bit by bit.\n",
    "\n",
    "```python\n",
    "class Network(nn.Module):\n",
    "```\n",
    "\n",
    "Here we're inheriting from `nn.Module`. Combined with `super().__init__()` this creates a class that tracks the architecture and provides a lot of useful methods and attributes. It is mandatory to inherit from `nn.Module` when you're creating a class for your network. The name of the class itself can be anything.\n",
    "\n",
    "```python\n",
    "self.hidden = nn.Linear(784, 256)\n",
    "```\n",
    "\n",
    "This line creates a module for a linear transformation, $x\\mathbf{W} + b$, with 784 inputs and 256 outputs and assigns it to `self.hidden`. The module automatically creates the weight and bias tensors which we'll use in the `forward` method. You can access the weight and bias tensors once the network (`net`) is created with `net.hidden.weight` and `net.hidden.bias`.\n",
    "\n",
    "```python\n",
    "self.output = nn.Linear(256, 10)\n",
    "```\n",
    "\n",
    "Similarly, this creates another linear transformation with 256 inputs and 10 outputs.\n",
    "\n",
    "```python\n",
    "self.sigmoid = nn.Sigmoid()\n",
    "self.softmax = nn.Softmax(dim=1)\n",
    "```\n",
    "\n",
    "Here I defined operations for the sigmoid activation and softmax output. Setting `dim=1` in `nn.Softmax(dim=1)` calculates softmax across the columns.\n",
    "\n",
    "```python\n",
    "def forward(self, x):\n",
    "```\n",
    "\n",
    "PyTorch networks created with `nn.Module` must have a `forward` method defined. It takes in a tensor `x` and passes it through the operations you defined in the `__init__` method.\n",
    "\n",
    "```python\n",
    "x = self.hidden(x)\n",
    "x = self.sigmoid(x)\n",
    "x = self.output(x)\n",
    "x = self.softmax(x)\n",
    "```\n",
    "\n",
    "Here the input tensor `x` is passed through each operation and reassigned to `x`. We can see that the input tensor goes through the hidden layer, then a sigmoid function, then the output layer, and finally the softmax function. It doesn't matter what you name the variables here, as long as the inputs and outputs of the operations match the network architecture you want to build. The order in which you define things in the `__init__` method doesn't matter, but you'll need to sequence the operations correctly in the `forward` method.\n",
    "\n",
    "Now we can create a `Network` object."
   ]
  },
  {
   "cell_type": "code",
   "execution_count": null,
   "metadata": {
    "collapsed": true
   },
   "outputs": [],
   "source": [
    "# Create the network and look at it's text representation\n",
    "model = Network()\n",
    "model"
   ]
  },
  {
   "cell_type": "markdown",
   "metadata": {},
   "source": [
    "You can define the network somewhat more concisely and clearly using the `torch.nn.functional` module. This is the most common way you'll see networks defined as many operations are simple element-wise functions. We normally import this module as `F`, `import torch.nn.functional as F`."
   ]
  },
  {
   "cell_type": "code",
   "execution_count": null,
   "metadata": {
    "collapsed": true
   },
   "outputs": [],
   "source": [
    "import torch.nn.functional as F\n",
    "\n",
    "class Network(nn.Module):\n",
    "    def __init__(self):\n",
    "        super().__init__()\n",
    "        # Inputs to hidden layer linear transformation\n",
    "        self.hidden = nn.Linear(784, 256)\n",
    "        # Output layer, 10 units - one for each digit\n",
    "        self.output = nn.Linear(256, 10)\n",
    "        \n",
    "    def forward(self, x):\n",
    "        # Hidden layer with sigmoid activation\n",
    "        x = F.sigmoid(self.hidden(x))\n",
    "        # Output layer with softmax activation\n",
    "        x = F.softmax(self.output(x), dim=1)\n",
    "        \n",
    "        return x"
   ]
  },
  {
   "cell_type": "markdown",
   "metadata": {},
   "source": [
    "### Activation functions\n",
    "\n",
    "So far we've only been looking at the sigmoid activation function, but in general any function can be used as an activation function. The only requirement is that for a network to approximate a non-linear function, the activation functions must be non-linear. Here are a few more examples of common activation functions: Tanh (hyperbolic tangent), and ReLU (rectified linear unit).\n",
    "\n",
    "<img src=\"assets/activation.png\" width=700px>\n",
    "\n",
    "In practice, the ReLU function is used almost exclusively as the activation function for hidden layers."
   ]
  },
  {
   "cell_type": "markdown",
   "metadata": {},
   "source": [
    "### Your Turn to Build a Network\n",
    "\n",
    "<img src=\"assets/mlp_mnist.png\" width=600px>\n",
    "\n",
    "> **Exercise:** Create a network with 784 input units, a hidden layer with 128 units and a ReLU activation, then a hidden layer with 64 units and a ReLU activation, and finally an output layer with a softmax activation as shown above. You can use a ReLU activation with the `nn.ReLU` module or `F.relu` function.\n",
    "\n",
    "It's good practice to name your layers by their type of network, for instance 'fc' to represent a fully-connected layer. As you code your solution, use `fc1`, `fc2`, and `fc3` as your layer names."
   ]
  },
  {
   "cell_type": "code",
   "execution_count": null,
   "metadata": {
    "collapsed": true,
    "scrolled": true
   },
   "outputs": [],
   "source": [
    "## Your solution here\n"
   ]
  },
  {
   "cell_type": "markdown",
   "metadata": {},
   "source": [
    "### Initializing weights and biases\n",
    "\n",
    "The weights and such are automatically initialized for you, but it's possible to customize how they are initialized. The weights and biases are tensors attached to the layer you defined, you can get them with `model.fc1.weight` for instance."
   ]
  },
  {
   "cell_type": "code",
   "execution_count": null,
   "metadata": {
    "collapsed": true
   },
   "outputs": [],
   "source": [
    "print(model.fc1.weight)\n",
    "print(model.fc1.bias)"
   ]
  },
  {
   "cell_type": "markdown",
   "metadata": {},
   "source": [
    "For custom initialization, we want to modify these tensors in place. These are actually autograd *Variables*, so we need to get back the actual tensors with `model.fc1.weight.data`. Once we have the tensors, we can fill them with zeros (for biases) or random normal values."
   ]
  },
  {
   "cell_type": "code",
   "execution_count": null,
   "metadata": {
    "collapsed": true
   },
   "outputs": [],
   "source": [
    "# Set biases to all zeros\n",
    "model.fc1.bias.data.fill_(0)"
   ]
  },
  {
   "cell_type": "code",
   "execution_count": null,
   "metadata": {
    "collapsed": true
   },
   "outputs": [],
   "source": [
    "# sample from random normal with standard dev = 0.01\n",
    "model.fc1.weight.data.normal_(std=0.01)"
   ]
  },
  {
   "cell_type": "markdown",
   "metadata": {},
   "source": [
    "### Forward pass\n",
    "\n",
    "Now that we have a network, let's see what happens when we pass in an image."
   ]
  },
  {
   "cell_type": "code",
   "execution_count": null,
   "metadata": {
    "collapsed": true
   },
   "outputs": [],
   "source": [
    "# Grab some data \n",
    "dataiter = iter(trainloader)\n",
    "images, labels = dataiter.next()\n",
    "\n",
    "# Resize images into a 1D vector, new shape is (batch size, color channels, image pixels) \n",
    "images.resize_(64, 1, 784)\n",
    "# or images.resize_(images.shape[0], 1, 784) to automatically get batch size\n",
    "\n",
    "# Forward pass through the network\n",
    "img_idx = 0\n",
    "ps = model.forward(images[img_idx,:])\n",
    "\n",
    "img = images[img_idx]\n",
    "helper.view_classify(img.view(1, 28, 28), ps)"
   ]
  },
  {
   "cell_type": "markdown",
   "metadata": {},
   "source": [
    "As you can see above, our network has basically no idea what this digit is. It's because we haven't trained it yet, all the weights are random!\n",
    "\n",
    "### Using `nn.Sequential`\n",
    "\n",
    "PyTorch provides a convenient way to build networks like this where a tensor is passed sequentially through operations, `nn.Sequential` ([documentation](https://pytorch.org/docs/master/nn.html#torch.nn.Sequential)). Using this to build the equivalent network:"
   ]
  },
  {
   "cell_type": "code",
   "execution_count": null,
   "metadata": {
    "collapsed": true
   },
   "outputs": [],
   "source": [
    "# Hyperparameters for our network\n",
    "input_size = 784\n",
    "hidden_sizes = [128, 64]\n",
    "output_size = 10\n",
    "\n",
    "# Build a feed-forward network\n",
    "model = nn.Sequential(nn.Linear(input_size, hidden_sizes[0]),\n",
    "                      nn.ReLU(),\n",
    "                      nn.Linear(hidden_sizes[0], hidden_sizes[1]),\n",
    "                      nn.ReLU(),\n",
    "                      nn.Linear(hidden_sizes[1], output_size),\n",
    "                      nn.Softmax(dim=1))\n",
    "print(model)\n",
    "\n",
    "# Forward pass through the network and display output\n",
    "images, labels = next(iter(trainloader))\n",
    "images.resize_(images.shape[0], 1, 784)\n",
    "ps = model.forward(images[0,:])\n",
    "helper.view_classify(images[0].view(1, 28, 28), ps)"
   ]
  },
  {
   "cell_type": "markdown",
   "metadata": {},
   "source": [
    "Here our model is the same as before: 784 input units, a hidden layer with 128 units, ReLU activation, 64 unit hidden layer, another ReLU, then the output layer with 10 units, and the softmax output.\n",
    "\n",
    "The operations are available by passing in the appropriate index. For example, if you want to get first Linear operation and look at the weights, you'd use `model[0]`."
   ]
  },
  {
   "cell_type": "code",
   "execution_count": null,
   "metadata": {
    "collapsed": true
   },
   "outputs": [],
   "source": [
    "print(model[0])\n",
    "model[0].weight"
   ]
  },
  {
   "cell_type": "markdown",
   "metadata": {},
   "source": [
    "You can also pass in an `OrderedDict` to name the individual layers and operations, instead of using incremental integers. Note that dictionary keys must be unique, so _each operation must have a different name_."
   ]
  },
  {
   "cell_type": "code",
   "execution_count": null,
   "metadata": {
    "collapsed": true
   },
   "outputs": [],
   "source": [
    "from collections import OrderedDict\n",
    "model = nn.Sequential(OrderedDict([\n",
    "                      ('fc1', nn.Linear(input_size, hidden_sizes[0])),\n",
    "                      ('relu1', nn.ReLU()),\n",
    "                      ('fc2', nn.Linear(hidden_sizes[0], hidden_sizes[1])),\n",
    "                      ('relu2', nn.ReLU()),\n",
    "                      ('output', nn.Linear(hidden_sizes[1], output_size)),\n",
    "                      ('softmax', nn.Softmax(dim=1))]))\n",
    "model"
   ]
  },
  {
   "cell_type": "markdown",
   "metadata": {},
   "source": [
    "Now you can access layers either by integer or the name"
   ]
  },
  {
   "cell_type": "code",
   "execution_count": null,
   "metadata": {
    "collapsed": true
   },
   "outputs": [],
   "source": [
    "print(model[0])\n",
    "print(model.fc1)"
   ]
  },
  {
   "cell_type": "markdown",
   "metadata": {},
   "source": [
    "In the next notebook, we'll see how we can train a neural network to accuractly predict the numbers appearing in the MNIST images."
   ]
  }
 ],
 "metadata": {
  "kernelspec": {
   "display_name": "Python 3",
   "language": "python",
   "name": "python3"
  },
  "language_info": {
   "codemirror_mode": {
    "name": "ipython",
    "version": 3
   },
   "file_extension": ".py",
   "mimetype": "text/x-python",
   "name": "python",
   "nbconvert_exporter": "python",
   "pygments_lexer": "ipython3",
   "version": "3.7.6"
  }
 },
 "nbformat": 4,
 "nbformat_minor": 2
}
